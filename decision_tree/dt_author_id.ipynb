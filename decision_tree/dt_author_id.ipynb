{
 "cells": [
  {
   "cell_type": "markdown",
   "metadata": {},
   "source": [
    "## This is the code to accompany the Lesson 3 (decision tree) mini-project.\n",
    "\n",
    "Use a Decision Tree to identify emails by their authors"
   ]
  },
  {
   "cell_type": "code",
   "execution_count": 6,
   "metadata": {},
   "outputs": [
    {
     "data": {
      "text/plain": [
       "'2.7.15 (v2.7.15:ca079a3ea3, Apr 29 2018, 17:49:27) \\n[GCC 4.2.1 (Apple Inc. build 5666) (dot 3)]'"
      ]
     },
     "execution_count": 6,
     "metadata": {},
     "output_type": "execute_result"
    }
   ],
   "source": [
    "from time import time\n",
    "import sys\n",
    "\n",
    "sys.path.append(\"../tools/\")\n",
    "from email_preprocess import preprocess\n",
    "from sklearn import tree\n",
    "from sklearn.metrics import accuracy_score\n",
    "\n",
    "sys.version"
   ]
  },
  {
   "cell_type": "markdown",
   "metadata": {},
   "source": [
    "Features_train and features_test are the features for the training and testing datasets, respectively labels_train and labels_test are the corresponding item labels. Authors and labels:\n",
    "- Sara has label 0\n",
    "- Chris has label 1"
   ]
  },
  {
   "cell_type": "code",
   "execution_count": 3,
   "metadata": {},
   "outputs": [
    {
     "name": "stdout",
     "output_type": "stream",
     "text": [
      "no. of Chris training emails: 7936\n",
      "no. of Sara training emails: 7884\n",
      "preprocessing time: 3.681 s\n"
     ]
    }
   ],
   "source": [
    "t0 = time()\n",
    "\n",
    "features_train, features_test, labels_train, labels_test = preprocess()\n",
    "\n",
    "print \"preprocessing time:\", round(time()-t0, 3), \"s\""
   ]
  },
  {
   "cell_type": "markdown",
   "metadata": {},
   "source": [
    "your code goes here--now create 2 decision tree classifiers,\n",
    "- one with min_samples_split=2 and one with min_samples_split=50\n",
    "- compute the accuracies on the testing data and store\n",
    "- the accuracy numbers to acc_min_samples_split_2 and\n",
    "- acc_min_samples_split_50, respectively"
   ]
  },
  {
   "cell_type": "code",
   "execution_count": 4,
   "metadata": {},
   "outputs": [],
   "source": [
    "def decision_tree_calculation(mss):\n",
    "    t0 = time()\n",
    "    clf = tree.DecisionTreeClassifier(min_samples_split=mss)\n",
    "    clf.fit(features_train, labels_train)\n",
    "    print \"training time:\", round(time()-t0, 3), \"s\"\n",
    "\n",
    "    t0 = time()\n",
    "    pred = clf.predict(features_test)\n",
    "    print \"predicting time:\", round(time()-t0, 3), \"s\"\n",
    "    \n",
    "    accuracy = accuracy_score(pred, labels_test)\n",
    "    print \"accuracy:\", accuracy\n",
    "    \n",
    "    return clf, accuracy"
   ]
  },
  {
   "cell_type": "code",
   "execution_count": 8,
   "metadata": {},
   "outputs": [
    {
     "name": "stdout",
     "output_type": "stream",
     "text": [
      "training time: 71.928 s\n",
      "predicting time: 0.015 s\n",
      "accuracy: 0.9914675767918089\n"
     ]
    }
   ],
   "source": [
    "clf, accuracy = decision_tree_calculation(2)\n",
    "acc_min_samples_split_2 = accuracy"
   ]
  },
  {
   "cell_type": "code",
   "execution_count": 9,
   "metadata": {},
   "outputs": [
    {
     "name": "stdout",
     "output_type": "stream",
     "text": [
      "training time: 73.71 s\n",
      "predicting time: 0.015 s\n",
      "accuracy: 0.9726962457337884\n"
     ]
    }
   ],
   "source": [
    "clf, accuracy = decision_tree_calculation(50)\n",
    "acc_min_samples_split_50 = accuracy"
   ]
  },
  {
   "cell_type": "code",
   "execution_count": null,
   "metadata": {},
   "outputs": [],
   "source": []
  },
  {
   "cell_type": "code",
   "execution_count": null,
   "metadata": {},
   "outputs": [],
   "source": []
  }
 ],
 "metadata": {
  "kernelspec": {
   "display_name": "Python 2",
   "language": "python",
   "name": "python2"
  },
  "varInspector": {
   "cols": {
    "lenName": 16,
    "lenType": 16,
    "lenVar": 40
   },
   "kernels_config": {
    "python": {
     "delete_cmd_postfix": "",
     "delete_cmd_prefix": "del ",
     "library": "var_list.py",
     "varRefreshCmd": "print(var_dic_list())"
    },
    "r": {
     "delete_cmd_postfix": ") ",
     "delete_cmd_prefix": "rm(",
     "library": "var_list.r",
     "varRefreshCmd": "cat(var_dic_list()) "
    }
   },
   "types_to_exclude": [
    "module",
    "function",
    "builtin_function_or_method",
    "instance",
    "_Feature"
   ],
   "window_display": false
  }
 },
 "nbformat": 4,
 "nbformat_minor": 2
}
